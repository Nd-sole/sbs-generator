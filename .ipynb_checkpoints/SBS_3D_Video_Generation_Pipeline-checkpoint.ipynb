{
 "cells": [
  {
   "cell_type": "markdown",
   "id": "cee2917f",
   "metadata": {},
   "source": [
    "\n",
    "# SBS 3D Video Generation Pipeline\n",
    "\n",
    "This notebook outlines the process of converting a monocular video into a side-by-side (SBS) 3D video.\n"
   ]
  },
  {
   "cell_type": "markdown",
   "id": "e231e45a",
   "metadata": {},
   "source": [
    "\n",
    "## Setup and Preparation\n",
    "\n",
    "Import necessary libraries and define the input video path.\n",
    "\n",
    "Personally, I opt for the file structure `datasets/d{index}/[set of input/output folder for frames]`"
   ]
  },
  {
   "cell_type": "code",
   "execution_count": null,
   "id": "4ca7e718",
   "metadata": {},
   "outputs": [],
   "source": [
    "import timeit\n",
    "import os\n",
    "import subprocess\n",
    "\n",
    "# Define the path to the input video\n",
    "dataset_directory = 'datasets/d3/'\n",
    "input_video_path = dataset_directory + 'StarWarsAnimatedBattle.mp4'\n",
    "final_video_filename = dataset_directory + 'StarWarsAnimatedBattle_SBS.mp4'"
   ]
  },
  {
   "cell_type": "markdown",
   "id": "7caf08b7",
   "metadata": {},
   "source": [
    "\n",
    "## Extract Frames from Video\n",
    "\n",
    "Use ffmpeg to extract frames from the input video.\n"
   ]
  },
  {
   "cell_type": "code",
   "execution_count": null,
   "id": "93d488a4",
   "metadata": {},
   "outputs": [],
   "source": [
    "# Create directory if non-existent\n",
    "output_frames_path = dataset_directory + 'rgbd_in/frame%d.jpg'\n",
    "output_dir = os.path.dirname(output_frames_path)\n",
    "os.makedirs(output_dir, exist_ok=True)\n",
    "# execute ffmpeg command\n",
    "!ffmpeg -i {input_video_path} -q:v 2 {output_frames_path}"
   ]
  },
  {
   "cell_type": "markdown",
   "id": "321b274d",
   "metadata": {},
   "source": [
    "\n",
    "# Generate Depth Images\n",
    "\n",
    "In this step, we generate depth maps for each color frame. We are using a cross-platform library called [Marigold](https://github.com/prs-eth/Marigold?tab=readme-ov-file), which works well on both Mac and Windows. Marigold is designed to efficiently generate depth maps and is particularly optimized for Apple Silicon.\n",
    "\n",
    "For Windows users, an alternative tool called [PatchFusion](https://zhyever.github.io/patchfusion/) is recommended. It's important to note that any depth map model compatible with your operating system can be used in this step. The key requirement is to obtain a depth map for each color frame.\n",
    "\n",
    "**Ensure that your datasets are placed in the specified input directory, and the output directory is set up to receive the depth maps.**"
   ]
  },
  {
   "cell_type": "markdown",
   "id": "34eb1b9b",
   "metadata": {},
   "source": [
    "## Running Marigold on Mac\n",
    "\n",
    "**Clone as subdirectory into this directory, set up environment as specified in READme, then proceed.**\n",
    "\n",
    "To generate depth maps using Marigold on a Mac, especially optimized for Apple Silicon, run the following command in the directory containing the Marigold library:"
   ]
  },
  {
   "cell_type": "code",
   "execution_count": null,
   "id": "3a0cd115",
   "metadata": {},
   "outputs": [],
   "source": [
    "rgbd_frames = dataset_directory + 'rgbd_in/'\n",
    "os.makedirs(rgb_frames, exist_ok=True)\n",
    "!python run.py --input_rgb_dir {rgbd_frames} --output_dir {rgbd_frames} --apple_silicon\n",
    "# Make sure to move outputted colored depth maps into rgbd_frames directory\n",
    "# we want both color and depth frames to exist in the same directory"
   ]
  },
  {
   "cell_type": "markdown",
   "id": "edb9eaab",
   "metadata": {},
   "source": [
    "\n",
    "## Image Preprocessing\n",
    "\n",
    "Rename and pair color and depth images as needed. Run the script or run the function inside notebook.\n"
   ]
  },
  {
   "cell_type": "code",
   "execution_count": null,
   "id": "d702eabd",
   "metadata": {},
   "outputs": [],
   "source": [
    "rgbd_frames = dataset_directory + 'rgbd_in/'\n",
    "# Example for renaming images (adjust according to your script)\n",
    "!python sbs_rename_directory.py {rgbd_frames}"
   ]
  },
  {
   "cell_type": "code",
   "execution_count": null,
   "id": "0c5f706d",
   "metadata": {},
   "outputs": [],
   "source": [
    "import os\n",
    "import re\n",
    "\n",
    "def get_frame_number(filename):\n",
    "    match = re.search(r\"frame(\\d+)_\", filename)\n",
    "    if match:\n",
    "        return int(match.group(1))\n",
    "    else:\n",
    "        raise ValueError(f\"Invalid filename format: {filename}\")\n",
    "        \n",
    "def rename_files(source_dir):\n",
    "    os.makedirs(source_dir, exist_ok=True)\n",
    "\n",
    "    # Process color images\n",
    "    color_files = sorted([f for f in os.listdir(source_dir) if f.startswith(\"frame\") and f.endswith(\".jpg\")], \n",
    "                         key=lambda x: int(x.split(\"frame\")[1].split(\".\")[0]))\n",
    "    counter = 0\n",
    "    for filename in color_files:\n",
    "        new_name = f\"color{counter}.jpg\"\n",
    "        os.rename(os.path.join(source_dir, filename), os.path.join(source_dir, new_name))\n",
    "        counter += 1\n",
    "    print(f\"Renamed {counter} color files in {source_dir}.\")\n",
    "\n",
    "    # Process depth images\n",
    "    depth_files = sorted([f for f in os.listdir(source_dir) if f.startswith(\"frame\") and f.endswith(\".png\")], \n",
    "                         key=get_frame_number)\n",
    "    counter = 0\n",
    "    for filename in depth_files:\n",
    "        new_name = f\"depth{counter}.png\"\n",
    "        os.rename(os.path.join(source_dir, filename), os.path.join(source_dir, new_name))\n",
    "        counter += 1\n",
    "    print(f\"Renamed {counter} depth files in {source_dir}.\")\n",
    "    \n",
    "source_dir = dataset_directory + \"rgbd_in/\"\n",
    "rename_files(source_dir)"
   ]
  },
  {
   "cell_type": "markdown",
   "id": "ca376732",
   "metadata": {},
   "source": [
    "\n",
    "## Generate Stereo Views\n",
    "\n",
    "Run the script to generate left and right eye views or run the function inside notebook.\n"
   ]
  },
  {
   "cell_type": "code",
   "execution_count": null,
   "id": "e3d21ca9",
   "metadata": {},
   "outputs": [],
   "source": [
    "stereo_input_dir =  dataset_directory + \"rgbd_in/\"\n",
    "stereo_output_dir = dataset_directory + \"stereo_out_frames/\"\n",
    "os.makedirs(stereo_input_dir, exist_ok=True)\n",
    "os.makedirs(stereo_output_dir, exist_ok=True)\n",
    "\n",
    "!python sbs_generate_stereoviews.py {stereo_input_dir} {stereo_output_dir}"
   ]
  },
  {
   "cell_type": "code",
   "execution_count": null,
   "id": "fd0e0726",
   "metadata": {
    "scrolled": true
   },
   "outputs": [],
   "source": [
    "%time\n",
    "\n",
    "import cv2\n",
    "import numpy as np\n",
    "import os\n",
    "\n",
    "def process_images(input_dir, output_dir, scale_factor):\n",
    "    if not os.path.exists(output_dir):\n",
    "        os.makedirs(output_dir)\n",
    "\n",
    "    color_images = sorted([f for f in os.listdir(input_dir) if f.startswith('color')])\n",
    "    depth_images = sorted([f for f in os.listdir(input_dir) if f.startswith('depth')])\n",
    "\n",
    "    for color_image_path, depth_image_path in zip(color_images, depth_images):\n",
    "        color_image = cv2.imread(os.path.join(input_dir, color_image_path))\n",
    "        depth_map = cv2.imread(os.path.join(input_dir, depth_image_path), cv2.IMREAD_GRAYSCALE)\n",
    "\n",
    "        if color_image is None:\n",
    "            print(f\"Error: Color image not found at {os.path.join(input_dir, color_image_path)}\")\n",
    "            continue\n",
    "\n",
    "        if depth_map is None:\n",
    "            print(f\"Error: Depth map not found at {os.path.join(input_dir, depth_image_path)}\")\n",
    "            continue\n",
    "\n",
    "        # Function to shift pixels based on depth map\n",
    "        def shift_pixels(image, depth_map, direction):\n",
    "            shifted_image = np.zeros_like(image)\n",
    "            for y in range(image.shape[0]):\n",
    "                for x in range(image.shape[1]):\n",
    "                    disparity = calculate_disparity(depth_map[y, x])\n",
    "                    new_x = x + disparity * direction\n",
    "                    if 0 <= new_x < image.shape[1]:\n",
    "                        shifted_image[y, new_x] = image[y, x]\n",
    "            return shifted_image\n",
    "\n",
    "        # Calculate disparity (example function, adjust as needed)\n",
    "        def calculate_disparity(depth_value):\n",
    "            # Simple linear mapping, adjust the scale factor as needed\n",
    "            return int(depth_value * scale_factor)\n",
    "\n",
    "        # Create left and right eye images\n",
    "        left_eye_image = shift_pixels(color_image, depth_map, 1)\n",
    "        right_eye_image = shift_pixels(color_image, depth_map, -1)\n",
    "\n",
    "        frame_number = color_image_path.split('color')[1].split('.')[0]\n",
    "        \n",
    "        if not os.path.exists(os.path.join(output_dir,'leftEye')):\n",
    "            os.makedirs(os.path.join(output_dir,'leftEye'))\n",
    "        if not os.path.exists(os.path.join(output_dir,'rightEye')):\n",
    "            os.makedirs(os.path.join(output_dir,'rightEye'))\n",
    "        \n",
    "        left_eye_output_path = os.path.join(output_dir, f'leftEye/leftEye{frame_number}.jpg')\n",
    "        right_eye_output_path = os.path.join(output_dir, f'rightEye/rightEye{frame_number}.jpg')\n",
    "\n",
    "        # Save the left and right eye images\n",
    "        cv2.imwrite(left_eye_output_path, left_eye_image)\n",
    "        cv2.imwrite(right_eye_output_path, right_eye_image)\n",
    "\n",
    "        print(f\"Processed frame {frame_number}.\")\n",
    "\n",
    "# Example usage\n",
    "stereo_input_dir =  dataset_directory + \"rgbd_in/\"\n",
    "stereo_output_dir = dataset_directory + \"stereo_out_frames/\"\n",
    "os.makedirs(stereo_input_dir, exist_ok=True)\n",
    "os.makedirs(stereo_output_dir, exist_ok=True)\n",
    "process_images(stereo_input_dir, stereo_output_dir, 0.05)"
   ]
  },
  {
   "cell_type": "markdown",
   "id": "35adf01f",
   "metadata": {},
   "source": [
    "\n",
    "## Inpainting Process\n",
    "\n",
    "Run the script for inpainting left and right eye images or run the function inside notebook.\n"
   ]
  },
  {
   "cell_type": "code",
   "execution_count": null,
   "id": "bd8cb281",
   "metadata": {},
   "outputs": [],
   "source": [
    "stereo_output_dir = dataset_directory + \"stereo_out_frames/\"\n",
    "stereo_postprocess_dir = dataset_directory + \"stereo_postprocess_frames/\"\n",
    "os.makedirs(stereo_output_dir, exist_ok=True)\n",
    "os.makedirs(stereo_postprocess_dir, exist_ok=True)\n",
    "\n",
    "!python sbs_inpaint_stereoviews.py {stereo_output_dir} {stereo_postprocess_dir}"
   ]
  },
  {
   "cell_type": "code",
   "execution_count": null,
   "id": "56acc662",
   "metadata": {
    "scrolled": true
   },
   "outputs": [],
   "source": [
    "import cv2\n",
    "import numpy as np\n",
    "import os\n",
    "\n",
    "def create_mask_for_black_streaks(image):\n",
    "    # Convert the image to grayscale\n",
    "    gray = cv2.cvtColor(image, cv2.COLOR_BGR2GRAY)\n",
    "    \n",
    "    # Use adaptive thresholding to better capture the black streaks\n",
    "    mask = cv2.adaptiveThreshold(gray, 255, cv2.ADAPTIVE_THRESH_GAUSSIAN_C, cv2.THRESH_BINARY_INV, 3, 8)\n",
    "    \n",
    "    # Dilate the mask to include the edges of the black streaks\n",
    "    kernel = np.ones((5,5), np.uint8)\n",
    "    mask = cv2.dilate(mask, kernel, iterations=1)\n",
    "    \n",
    "    return mask\n",
    "\n",
    "def inpaint_black_streaks(image, mask):\n",
    "    # Inpaint the black streaks in the image\n",
    "    inpainted_image = cv2.inpaint(image, mask, 5, cv2.INPAINT_TELEA)\n",
    "    \n",
    "    return inpainted_image\n",
    "\n",
    "def process_images(input_dir, output_dir, save_masks=False):\n",
    "    if not os.path.exists(output_dir):\n",
    "        os.makedirs(output_dir)\n",
    "    if not os.path.exists(os.path.join(output_dir,'leftEye')):\n",
    "        os.makedirs(os.path.join(output_dir,'leftEye'))\n",
    "    if not os.path.exists(os.path.join(output_dir,'rightEye')):\n",
    "        os.makedirs(os.path.join(output_dir,'rightEye'))\n",
    "    \n",
    "    if save_masks:\n",
    "        if not os.path.exists(os.path.join(output_dir,'leftEyeMask')):\n",
    "            os.makedirs(os.path.join(output_dir,'leftEyeMask'))\n",
    "        if not os.path.exists(os.path.join(output_dir,'rightEyeMask')):\n",
    "            os.makedirs(os.path.join(output_dir,'rightEyeMask'))\n",
    "\n",
    "    left_path = input_dir + \"leftEye/\"\n",
    "    right_path = input_dir + \"rightEye/\"\n",
    "    left_eye_images = sorted([f for f in os.listdir(left_path) if f.startswith('leftEye')])\n",
    "    right_eye_images = sorted([f for f in os.listdir(right_path) if f.startswith('rightEye')])\n",
    "\n",
    "    for left_eye_image_path, right_eye_image_path in zip(left_eye_images, right_eye_images):\n",
    "        left_eye_image = cv2.imread(os.path.join(left_path, left_eye_image_path))\n",
    "        right_eye_image = cv2.imread(os.path.join(right_path, right_eye_image_path))\n",
    "\n",
    "        if left_eye_image is None or right_eye_image is None:\n",
    "            print(f\"Error: Image not found at {os.path.join(input_dir, left_eye_image_path)} or {os.path.join(input_dir, right_eye_image_path)}\")\n",
    "            continue\n",
    "\n",
    "        # Create masks for the black streaks in both left and right eye images\n",
    "        left_eye_mask = create_mask_for_black_streaks(left_eye_image)\n",
    "        right_eye_mask = create_mask_for_black_streaks(right_eye_image)\n",
    "\n",
    "        # Inpaint the black streaks in both left and right eye images\n",
    "        left_eye_post = inpaint_black_streaks(left_eye_image, left_eye_mask)\n",
    "        right_eye_post = inpaint_black_streaks(right_eye_image, right_eye_mask)\n",
    "\n",
    "        frame_number = left_eye_image_path.split('leftEye')[1].split('.')[0]\n",
    "        left_eye_post_output_path = os.path.join(output_dir + \"leftEye/\", f'leftEyePost{frame_number}.jpg')\n",
    "        right_eye_post_output_path = os.path.join(output_dir + \"rightEye/\", f'rightEyePost{frame_number}.jpg')\n",
    "        # Save the processed images and masks\n",
    "        cv2.imwrite(left_eye_post_output_path, left_eye_post)\n",
    "        cv2.imwrite(right_eye_post_output_path, right_eye_post)\n",
    "        \n",
    "        if (save_masks):\n",
    "            left_eye_mask_output_path = os.path.join(output_dir + \"leftEyeMask/\", f'leftEyeMask{frame_number}.jpg')\n",
    "            right_eye_mask_output_path = os.path.join(output_dir + \"rightEyeMask/\", f'rightEyeMask{frame_number}.jpg')\n",
    "            cv2.imwrite(left_eye_mask_output_path, left_eye_mask)\n",
    "            cv2.imwrite(right_eye_mask_output_path, right_eye_mask)\n",
    "\n",
    "        print(f\"Processed frame {frame_number}.\")\n",
    "\n",
    "                          \n",
    "stereo_output_dir = dataset_directory + \"stereo_out_frames/\"\n",
    "stereo_postprocess_dir = dataset_directory + \"stereo_postprocess_frames/\"\n",
    "os.makedirs(stereo_output_dir, exist_ok=True)\n",
    "os.makedirs(stereo_postprocess_dir, exist_ok=True)                          \n",
    "# Example usage\n",
    "process_images(stereo_output_dir, stereo_postprocess_dir)\n"
   ]
  },
  {
   "cell_type": "markdown",
   "id": "8adc9976",
   "metadata": {},
   "source": [
    "\n",
    "## Create Videos from Images\n",
    "\n",
    "Use ffmpeg to create left and right eye videos. \n",
    "\n",
    "**Note** what the appropriate frame rate should be based on your input video.\n"
   ]
  },
  {
   "cell_type": "code",
   "execution_count": null,
   "id": "83851e8c",
   "metadata": {},
   "outputs": [],
   "source": [
    "left_eye_dir = dataset_directory + \"stereo_postprocess_frames/\" + \"leftEye/\"\n",
    "right_eye_dir = dataset_directory + \"stereo_postprocess_frames/\" + \"rightEye/\"\n",
    "os.makedirs(left_eye_dir, exist_ok=True)\n",
    "os.makedirs(right_eye_dir, exist_ok=True)\n",
    "left_eye_dir += \"leftEyePost%d.jpg\"\n",
    "right_eye_dir += \"rightEyePost%d.jpg\"\n",
    "\n",
    "left_eye_vid = dataset_directory + \"left_eye.mp4\"\n",
    "right_eye_vid = dataset_directory + \"right_eye.mp4\"\n",
    "\n",
    "\n",
    "!ffmpeg -framerate 24 -i {left_eye_dir} -c:v libx264 -pix_fmt yuv420p -vf \"fps=24\" {left_eye_vid}\n",
    "!ffmpeg -framerate 24 -i {right_eye_dir} -c:v libx264 -pix_fmt yuv420p -vf \"fps=24\" {right_eye_vid}\n"
   ]
  },
  {
   "cell_type": "markdown",
   "id": "cb1971f9",
   "metadata": {},
   "source": [
    "\n",
    "## Merge Videos and Inject Metadata\n",
    "\n",
    "Combine the left and right eye videos into an SBS video and inject 3D metadata.\n"
   ]
  },
  {
   "cell_type": "code",
   "execution_count": null,
   "id": "d2b2c7ff",
   "metadata": {},
   "outputs": [],
   "source": [
    "left_eye_vid = dataset_directory + \"left_eye.mp4\"\n",
    "right_eye_vid = dataset_directory + \"right_eye.mp4\"\n",
    "output_vid = dataset_directory + \"output.SBS.mp4\"\n",
    "\n",
    "!ffmpeg -i {left_eye_vid} -i {right_eye_vid} -filter_complex \"[0:v][1:v]hstack=inputs=2[v]\" -map \"[v]\" {output_vid}\n",
    "!ffmpeg -i {output_vid} -vf \"scale=2*iw:ih\" -c:v libx264 -x264opts \"frame-packing=3\" -aspect 2:1 {final_video_filename}\n"
   ]
  },
  {
   "cell_type": "markdown",
   "id": "3a4943eb",
   "metadata": {},
   "source": [
    "## Upload SBS video to Quest headset\n",
    "\n",
    "First register device connection, then push file, and lastly force the file system to update without restarting the device.\n"
   ]
  },
  {
   "cell_type": "code",
   "execution_count": null,
   "id": "3155fb3b",
   "metadata": {},
   "outputs": [],
   "source": [
    "!adb devices\n",
    "!adb push {final_video_filename} /sdcard/Movies/\n",
    "!adb shell am force-stop com.android.providers.media.module"
   ]
  },
  {
   "cell_type": "markdown",
   "id": "72f75dc8",
   "metadata": {},
   "source": [
    "\n",
    "## Cleanup and Finalization\n",
    "\n",
    "(Optional) Cleanup temporary files and display/export the final video path.\n"
   ]
  },
  {
   "cell_type": "code",
   "execution_count": null,
   "id": "38160454",
   "metadata": {},
   "outputs": [],
   "source": [
    "# Example cleanup (adjust as needed)\n",
    "\n",
    "#rgbd frame directories\n",
    "rgbd_frames = dataset_directory + 'rgbd_in/'\n",
    "#stereo directories\n",
    "stereo_input_dir =  dataset_directory + \"input_frames/\"\n",
    "stereo_output_dir = dataset_directory + \"stereo_out_frames/\"\n",
    "#inpainting directories\n",
    "stereo_postprocess_dir = dataset_directory + \"stereo_postprocess_frames/\"\n",
    "\n",
    "#video directories\n",
    "left_eye_vid = dataset_directory + \"left_eye.mp4\"\n",
    "right_eye_vid = dataset_directory + \"right_eye.mp4\"\n",
    "output_vid = dataset_directory + \"output.SBS.mp4\"\n",
    "\n",
    "# delete all directories and videos\n",
    "!rm -rf {rgbd_frames}\n",
    "!rm -rf {stereo_input_dir}\n",
    "!rm -rf {stereo_output_dir}\n",
    "!rm -rf {stereo_postprocess_dir}\n",
    "!rm {left_eye_vid} {right_eye_vid} {output_vid}"
   ]
  }
 ],
 "metadata": {
  "kernelspec": {
   "display_name": "Python 3 (ipykernel)",
   "language": "python",
   "name": "python3"
  },
  "language_info": {
   "codemirror_mode": {
    "name": "ipython",
    "version": 3
   },
   "file_extension": ".py",
   "mimetype": "text/x-python",
   "name": "python",
   "nbconvert_exporter": "python",
   "pygments_lexer": "ipython3",
   "version": "3.11.5"
  }
 },
 "nbformat": 4,
 "nbformat_minor": 5
}
