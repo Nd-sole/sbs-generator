{
 "cells": [
  {
   "cell_type": "markdown",
   "id": "cee2917f",
   "metadata": {},
   "source": [
    "\n",
    "# SBS 3D Video Generation Pipeline\n",
    "\n",
    "This notebook outlines the process of converting a monocular video into a side-by-side (SBS) 3D video.\n"
   ]
  },
  {
   "cell_type": "markdown",
   "id": "e231e45a",
   "metadata": {},
   "source": [
    "\n",
    "## Setup and Preparation\n",
    "\n",
    "Import necessary libraries and define the input video path.\n"
   ]
  },
  {
   "cell_type": "code",
   "execution_count": null,
   "id": "4ca7e718",
   "metadata": {},
   "outputs": [],
   "source": [
    "\n",
    "import os\n",
    "import subprocess\n",
    "\n",
    "# Define the path to the input video\n",
    "input_video_path = 'path/to/your/input.mp4'\n"
   ]
  },
  {
   "cell_type": "markdown",
   "id": "7caf08b7",
   "metadata": {},
   "source": [
    "\n",
    "## Extract Frames from Video\n",
    "\n",
    "Use ffmpeg to extract frames from the input video.\n"
   ]
  },
  {
   "cell_type": "code",
   "execution_count": null,
   "id": "93d488a4",
   "metadata": {},
   "outputs": [],
   "source": [
    "\n",
    "!ffmpeg -i {input_video_path} -q:v 2 video_images/frame%d.jpg\n"
   ]
  },
  {
   "cell_type": "markdown",
   "id": "321b274d",
   "metadata": {},
   "source": [
    "\n",
    "## Generate Depth Images\n",
    "\n",
    "(Placeholder: Run the depth estimation model/tool here.)\n"
   ]
  },
  {
   "cell_type": "markdown",
   "id": "edb9eaab",
   "metadata": {},
   "source": [
    "\n",
    "## Image Preprocessing\n",
    "\n",
    "Rename and pair images as needed.\n"
   ]
  },
  {
   "cell_type": "code",
   "execution_count": null,
   "id": "d702eabd",
   "metadata": {},
   "outputs": [],
   "source": [
    "\n",
    "# Example for renaming images (adjust according to your script)\n",
    "!python sbs_rename_directory.py\n"
   ]
  },
  {
   "cell_type": "markdown",
   "id": "ca376732",
   "metadata": {},
   "source": [
    "\n",
    "## Generate Stereo Views\n",
    "\n",
    "Run the script to generate left and right eye views.\n"
   ]
  },
  {
   "cell_type": "code",
   "execution_count": null,
   "id": "e3d21ca9",
   "metadata": {},
   "outputs": [],
   "source": [
    "\n",
    "!python sbs_generate_stereoviews.py\n"
   ]
  },
  {
   "cell_type": "markdown",
   "id": "35adf01f",
   "metadata": {},
   "source": [
    "\n",
    "## Inpainting Process\n",
    "\n",
    "Run the script for inpainting left and right eye images.\n"
   ]
  },
  {
   "cell_type": "code",
   "execution_count": null,
   "id": "bd8cb281",
   "metadata": {},
   "outputs": [],
   "source": [
    "\n",
    "!python sbs_inpaint_stereoviews.py\n"
   ]
  },
  {
   "cell_type": "markdown",
   "id": "8adc9976",
   "metadata": {},
   "source": [
    "\n",
    "## Create Videos from Images\n",
    "\n",
    "Use ffmpeg to create left and right eye videos.\n"
   ]
  },
  {
   "cell_type": "code",
   "execution_count": null,
   "id": "83851e8c",
   "metadata": {},
   "outputs": [],
   "source": [
    "\n",
    "!ffmpeg -framerate 30 -i 'leftEye/leftEye%d.jpg' -c:v libx264 -pix_fmt yuv420p -vf \"fps=30\" left_eye.mp4\n",
    "!ffmpeg -framerate 30 -i 'rightEye/rightEye%d.jpg' -c:v libx264 -pix_fmt yuv420p -vf \"fps=30\" right_eye.mp4\n"
   ]
  },
  {
   "cell_type": "markdown",
   "id": "cb1971f9",
   "metadata": {},
   "source": [
    "\n",
    "## Merge Videos and Inject Metadata\n",
    "\n",
    "Combine the left and right eye videos into an SBS video and inject 3D metadata.\n"
   ]
  },
  {
   "cell_type": "code",
   "execution_count": null,
   "id": "d2b2c7ff",
   "metadata": {},
   "outputs": [],
   "source": [
    "\n",
    "!ffmpeg -i left_eye.mp4 -i right_eye.mp4 -filter_complex \"[0:v][1:v]hstack=inputs=2[v]\" -map \"[v]\" output.SBS.mp4\n",
    "!ffmpeg -i output.SBS.mp4 -vf \"scale=2*iw:ih\" -c:v libx264 -x264opts \"frame-packing=3\" -aspect 2:1 outputv2-3D.mp4\n"
   ]
  },
  {
   "cell_type": "markdown",
   "id": "72f75dc8",
   "metadata": {},
   "source": [
    "\n",
    "## Cleanup and Finalization\n",
    "\n",
    "(Optional) Cleanup temporary files and display/export the final video path.\n"
   ]
  },
  {
   "cell_type": "code",
   "execution_count": null,
   "id": "38160454",
   "metadata": {},
   "outputs": [],
   "source": [
    "\n",
    "# Example cleanup (adjust as needed)\n",
    "# !rm -rf video_images/\n",
    "# !rm left_eye.mp4 right_eye.mp4\n",
    "\n",
    "# Display the final video path\n",
    "final_video_path = 'outputv2-3D.mp4'\n",
    "final_video_path\n"
   ]
  }
 ],
 "metadata": {},
 "nbformat": 4,
 "nbformat_minor": 5
}
