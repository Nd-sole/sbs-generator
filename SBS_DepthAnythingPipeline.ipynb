{
 "cells": [
  {
   "cell_type": "markdown",
   "id": "cee2917f",
   "metadata": {},
   "source": [
    "\n",
    "# SBS 3D Video Generation Pipeline\n",
    "\n",
    "This notebook outlines the process of converting a monocular video into a side-by-side (SBS) 3D video.\n"
   ]
  },
  {
   "cell_type": "markdown",
   "id": "e231e45a",
   "metadata": {},
   "source": [
    "\n",
    "## Setup and Preparation\n",
    "\n",
    "Import necessary libraries and define the input video path.\n",
    "\n",
    "Personally, I opt for the file structure `datasets/d{index}/[set of input/output folder for frames]`"
   ]
  },
  {
   "cell_type": "code",
   "execution_count": 1,
   "id": "4ca7e718",
   "metadata": {},
   "outputs": [],
   "source": [
    "import timeit\n",
    "import os\n",
    "import subprocess\n",
    "\n",
    "dataset = 0\n",
    "# Define the path to the input video\n",
    "dataset_directory = f'datasets/d{dataset}/'\n",
    "input_video_path = dataset_directory + 'test.mp4'\n",
    "final_video_filename = dataset_directory + 'test_SBS.mp4'"
   ]
  },
  {
   "cell_type": "markdown",
   "id": "10130fcc",
   "metadata": {},
   "source": [
    "## Import and Setup Depth Anything Project"
   ]
  },
  {
   "cell_type": "markdown",
   "id": "4411cb24",
   "metadata": {},
   "source": [
    "Run depth anything model for video input, specify if wishing to include depth model locally"
   ]
  },
  {
   "cell_type": "code",
   "execution_count": 2,
   "id": "7209e034",
   "metadata": {},
   "outputs": [],
   "source": [
    "local_path = False\n",
    "local_path_directory = \"your_local_directory\"\n",
    "current_working_directory = os.getcwd()"
   ]
  },
  {
   "cell_type": "code",
   "execution_count": 3,
   "id": "226bd37a",
   "metadata": {},
   "outputs": [],
   "source": [
    "if local_path:\n",
    "    local_path_directory = r\"depth_models\"\n",
    "    # Clone the repository\n",
    "    os.system(\"git clone https://github.com/LiheYoung/Depth-Anything\")\n",
    "    # Change directory to the cloned repository\n",
    "    os.chdir(\"Depth-Anything\")\n",
    "    # Create a Conda environment named 'depth-anything' with Python 3.11\n",
    "    os.system(\"conda create -n depth-anything python=3.11\")\n",
    "    # Activate the Conda environment\n",
    "    os.system(\"conda activate depth-anything\")\n",
    "    # Install PyTorch and other dependencies\n",
    "    os.system(\"conda install pytorch torchvision torchaudio pytorch-cuda=11.8 -c pytorch -c nvidia\")\n",
    "    # Install additional Python packages from requirements.txt\n",
    "    os.system(\"pip install -r requirements.txt\")\n",
    "    # Print a message to indicate successful setup\n",
    "    print(\"Project setup complete.\")"
   ]
  },
  {
   "cell_type": "code",
   "execution_count": 4,
   "id": "3feb59fa",
   "metadata": {},
   "outputs": [
    {
     "name": "stdout",
     "output_type": "stream",
     "text": [
      "Path set ..\\Depth-Anything\n"
     ]
    }
   ],
   "source": [
    "# if not local path, specify remote path for depth-anything\n",
    "remote_path = r\"..\\Depth-Anything\"\n",
    "if not local_path: local_path_directory = remote_path\n",
    "print(f\"Path set {local_path_directory}\")"
   ]
  },
  {
   "cell_type": "code",
   "execution_count": 5,
   "id": "6bbc0f49-637c-44f0-89e3-4ae5edce2a26",
   "metadata": {},
   "outputs": [],
   "source": [
    "def checkPath(path):\n",
    "    if os.path.exists(path): print(f\"The file '{path}' exists.\")\n",
    "    else: print(f\"The file '{path}' does not exist.\")"
   ]
  },
  {
   "cell_type": "code",
   "execution_count": 8,
   "id": "3a0cd115",
   "metadata": {},
   "outputs": [
    {
     "name": "stdout",
     "output_type": "stream",
     "text": [
      "dataset directory datasets/d0/\n",
      " video dire datasets/d0/test.mp4\n",
      " outdir datasets/d0/\n",
      "local path ..\\Depth-Anything\n",
      "The file 'C:\\Users\\abahrema\\Documents\\Tools\\sbs-generator\\datasets/d0/test.mp4' exists.\n",
      "The file 'C:\\Users\\abahrema\\Documents\\Tools\\sbs-generator\\datasets/d0/' exists.\n",
      "Cuda available? True\n",
      "Model directory C:\\Users\\abahrema\\Documents\\Tools\\Depth-Anything\\checkpoints\\depth_anything_vitb14\n",
      "Loading weights from local directory\n",
      "Total parameters: 97.47M\n",
      "Progress 1/1, Processing C:\\Users\\abahrema\\Documents\\Tools\\sbs-generator\\datasets/d0/test.mp4\n"
     ]
    },
    {
     "name": "stderr",
     "output_type": "stream",
     "text": [
      "xFormers not available\n",
      "xFormers not available\n"
     ]
    }
   ],
   "source": [
    "rgbd_frames = dataset_directory + 'rgbd_in/'\n",
    "os.makedirs(rgbd_frames, exist_ok=True)\n",
    "\n",
    "print(f\"dataset directory {dataset_directory}\\n video dire {input_video_path}\\n outdir {dataset_directory}\")\n",
    "print(f\"local path {local_path_directory}\")\n",
    "\n",
    "# Check if the file exists\n",
    "file_path = os.path.join(local_path_directory, \"run_depth_only.py\")\n",
    "\n",
    "# Get the current working directory\n",
    "current_working_directory = os.getcwd()\n",
    "\n",
    "# Define the full paths to input video and dataset directory\n",
    "input_video_path_full = os.path.join(current_working_directory, input_video_path)\n",
    "dataset_directory_full = os.path.join(current_working_directory, dataset_directory)\n",
    "checkPath(input_video_path_full)\n",
    "checkPath(dataset_directory_full)\n",
    "\n",
    "\n",
    "os.chdir(local_path_directory)\n",
    "!python {local_path_directory}/run_depth_only.py --encoder vitl --video-path {input_video_path_full} --outdir {dataset_directory_full}"
   ]
  },
  {
   "cell_type": "markdown",
   "id": "7caf08b7",
   "metadata": {},
   "source": [
    "\n",
    "## Extract Frames from Video\n",
    "\n",
    "Use ffmpeg to extract frames from the input color video and depth video.\n"
   ]
  },
  {
   "cell_type": "code",
   "execution_count": 5,
   "id": "f411238e-ce3f-4fb8-8082-9a135ce9c4ea",
   "metadata": {},
   "outputs": [
    {
     "name": "stdout",
     "output_type": "stream",
     "text": [
      "Changed directory to C:\\Users\\abahrema\\Documents\\Tools\\sbs-generator\n"
     ]
    }
   ],
   "source": [
    "# switch directory back\n",
    "output_depth_video = dataset_directory + \"test_video_depth.mp4\"\n",
    "os.chdir(current_working_directory)\n",
    "print(f\"Changed directory to {current_working_directory}\")"
   ]
  },
  {
   "cell_type": "code",
   "execution_count": 17,
   "id": "93d488a4",
   "metadata": {
    "scrolled": true
   },
   "outputs": [
    {
     "name": "stdout",
     "output_type": "stream",
     "text": [
      "output_frames_path: datasets/d0/rgbd_in/frame%d.jpg, output_dir: datasets/d0/rgbd_in\n",
      "video datasets/d0/test.mp4\n"
     ]
    },
    {
     "name": "stderr",
     "output_type": "stream",
     "text": [
      "ffmpeg version 2024-01-28-git-e0da916b8f-full_build-www.gyan.dev Copyright (c) 2000-2024 the FFmpeg developers\n",
      "  built with gcc 12.2.0 (Rev10, Built by MSYS2 project)\n",
      "  configuration: --enable-gpl --enable-version3 --enable-static --pkg-config=pkgconf --disable-w32threads --disable-autodetect --enable-fontconfig --enable-iconv --enable-gnutls --enable-libxml2 --enable-gmp --enable-bzlib --enable-lzma --enable-libsnappy --enable-zlib --enable-librist --enable-libsrt --enable-libssh --enable-libzmq --enable-avisynth --enable-libbluray --enable-libcaca --enable-sdl2 --enable-libaribb24 --enable-libaribcaption --enable-libdav1d --enable-libdavs2 --enable-libuavs3d --enable-libzvbi --enable-librav1e --enable-libsvtav1 --enable-libwebp --enable-libx264 --enable-libx265 --enable-libxavs2 --enable-libxvid --enable-libaom --enable-libjxl --enable-libopenjpeg --enable-libvpx --enable-mediafoundation --enable-libass --enable-frei0r --enable-libfreetype --enable-libfribidi --enable-libharfbuzz --enable-liblensfun --enable-libvidstab --enable-libvmaf --enable-libzimg --enable-amf --enable-cuda-llvm --enable-cuvid --enable-ffnvcodec --enable-nvdec --enable-nvenc --enable-dxva2 --enable-d3d11va --enable-libvpl --enable-libshaderc --enable-vulkan --enable-libplacebo --enable-opencl --enable-libcdio --enable-libgme --enable-libmodplug --enable-libopenmpt --enable-libopencore-amrwb --enable-libmp3lame --enable-libshine --enable-libtheora --enable-libtwolame --enable-libvo-amrwbenc --enable-libcodec2 --enable-libilbc --enable-libgsm --enable-libopencore-amrnb --enable-libopus --enable-libspeex --enable-libvorbis --enable-ladspa --enable-libbs2b --enable-libflite --enable-libmysofa --enable-librubberband --enable-libsoxr --enable-chromaprint\n",
      "  libavutil      58. 36.101 / 58. 36.101\n",
      "  libavcodec     60. 38.100 / 60. 38.100\n",
      "  libavformat    60. 20.100 / 60. 20.100\n",
      "  libavdevice    60.  4.100 / 60.  4.100\n",
      "  libavfilter     9. 17.100 /  9. 17.100\n",
      "  libswscale      7.  6.100 /  7.  6.100\n",
      "  libswresample   4. 13.100 /  4. 13.100\n",
      "  libpostproc    57.  4.100 / 57.  4.100\n",
      "Input #0, mov,mp4,m4a,3gp,3g2,mj2, from 'datasets/d0/test.mp4':\n",
      "  Metadata:\n",
      "    major_brand     : isom\n",
      "    minor_version   : 512\n",
      "    compatible_brands: isomiso2mp41\n",
      "    encoder         : Lavf59.27.100\n",
      "  Duration: 00:00:03.33, start: 0.000000, bitrate: 18297 kb/s\n",
      "  Stream #0:0[0x1](und): Video: mpeg4 (Simple Profile) (mp4v / 0x7634706D), yuv420p, 1920x1080 [SAR 1:1 DAR 16:9], 18294 kb/s, 24 fps, 24 tbr, 12288 tbn (default)\n",
      "      Metadata:\n",
      "        handler_name    : VideoHandler\n",
      "        vendor_id       : [0][0][0][0]\n",
      "Stream mapping:\n",
      "  Stream #0:0 -> #0:0 (mpeg4 (native) -> mjpeg (native))\n",
      "Press [q] to stop, [?] for help\n",
      "[swscaler @ 0000021158607880] deprecated pixel format used, make sure you did set range correctly\n",
      "Output #0, image2, to 'datasets/d0/rgbd_in/frame%d.jpg':\n",
      "  Metadata:\n",
      "    major_brand     : isom\n",
      "    minor_version   : 512\n",
      "    compatible_brands: isomiso2mp41\n",
      "    encoder         : Lavf60.20.100\n",
      "  Stream #0:0(und): Video: mjpeg, yuvj420p(pc, progressive), 1920x1080 [SAR 1:1 DAR 16:9], q=2-31, 200 kb/s, 24 fps, 24 tbn (default)\n",
      "      Metadata:\n",
      "        handler_name    : VideoHandler\n",
      "        vendor_id       : [0][0][0][0]\n",
      "        encoder         : Lavc60.38.100 mjpeg\n",
      "      Side data:\n",
      "        cpb: bitrate max/min/avg: 0/0/200000 buffer size: 0 vbv_delay: N/A\n",
      "[out#0/image2 @ 0000021155b7fc40] video:30696kB audio:0kB subtitle:0kB other streams:0kB global headers:0kB muxing overhead: unknown\n",
      "frame=   80 fps=0.0 q=2.0 Lsize=N/A time=00:00:03.33 bitrate=N/A speed=9.53x    \n",
      "ffmpeg version 2024-01-28-git-e0da916b8f-full_build-www.gyan.dev Copyright (c) 2000-2024 the FFmpeg developers\n",
      "  built with gcc 12.2.0 (Rev10, Built by MSYS2 project)\n",
      "  configuration: --enable-gpl --enable-version3 --enable-static --pkg-config=pkgconf --disable-w32threads --disable-autodetect --enable-fontconfig --enable-iconv --enable-gnutls --enable-libxml2 --enable-gmp --enable-bzlib --enable-lzma --enable-libsnappy --enable-zlib --enable-librist --enable-libsrt --enable-libssh --enable-libzmq --enable-avisynth --enable-libbluray --enable-libcaca --enable-sdl2 --enable-libaribb24 --enable-libaribcaption --enable-libdav1d --enable-libdavs2 --enable-libuavs3d --enable-libzvbi --enable-librav1e --enable-libsvtav1 --enable-libwebp --enable-libx264 --enable-libx265 --enable-libxavs2 --enable-libxvid --enable-libaom --enable-libjxl --enable-libopenjpeg --enable-libvpx --enable-mediafoundation --enable-libass --enable-frei0r --enable-libfreetype --enable-libfribidi --enable-libharfbuzz --enable-liblensfun --enable-libvidstab --enable-libvmaf --enable-libzimg --enable-amf --enable-cuda-llvm --enable-cuvid --enable-ffnvcodec --enable-nvdec --enable-nvenc --enable-dxva2 --enable-d3d11va --enable-libvpl --enable-libshaderc --enable-vulkan --enable-libplacebo --enable-opencl --enable-libcdio --enable-libgme --enable-libmodplug --enable-libopenmpt --enable-libopencore-amrwb --enable-libmp3lame --enable-libshine --enable-libtheora --enable-libtwolame --enable-libvo-amrwbenc --enable-libcodec2 --enable-libilbc --enable-libgsm --enable-libopencore-amrnb --enable-libopus --enable-libspeex --enable-libvorbis --enable-ladspa --enable-libbs2b --enable-libflite --enable-libmysofa --enable-librubberband --enable-libsoxr --enable-chromaprint\n",
      "  libavutil      58. 36.101 / 58. 36.101\n",
      "  libavcodec     60. 38.100 / 60. 38.100\n",
      "  libavformat    60. 20.100 / 60. 20.100\n",
      "  libavdevice    60.  4.100 / 60.  4.100\n",
      "  libavfilter     9. 17.100 /  9. 17.100\n",
      "  libswscale      7.  6.100 /  7.  6.100\n",
      "  libswresample   4. 13.100 /  4. 13.100\n",
      "  libpostproc    57.  4.100 / 57.  4.100\n",
      "Input #0, mov,mp4,m4a,3gp,3g2,mj2, from 'datasets/d0/test_video_depth.mp4':\n",
      "  Metadata:\n",
      "    major_brand     : isom\n",
      "    minor_version   : 512\n",
      "    compatible_brands: isomiso2mp41\n",
      "    encoder         : Lavf58.76.100\n",
      "  Duration: 00:00:03.33, start: 0.000000, bitrate: 3903 kb/s\n",
      "  Stream #0:0[0x1](und): Video: mpeg4 (Simple Profile) (mp4v / 0x7634706D), yuv420p, 1920x1080 [SAR 1:1 DAR 16:9], 3900 kb/s, 24 fps, 24 tbr, 12288 tbn (default)\n",
      "      Metadata:\n",
      "        handler_name    : VideoHandler\n",
      "        vendor_id       : [0][0][0][0]\n",
      "Stream mapping:\n",
      "  Stream #0:0 -> #0:0 (mpeg4 (native) -> png (native))\n",
      "Press [q] to stop, [?] for help\n",
      "Output #0, image2, to 'datasets/d0/rgbd_in/frame%d.png':\n",
      "  Metadata:\n",
      "    major_brand     : isom\n",
      "    minor_version   : 512\n",
      "    compatible_brands: isomiso2mp41\n",
      "    encoder         : Lavf60.20.100\n",
      "  Stream #0:0(und): Video: png, rgb24(pc, gbr/unknown/unknown, progressive), 1920x1080 [SAR 1:1 DAR 16:9], q=2-31, 200 kb/s, 24 fps, 24 tbn (default)\n",
      "      Metadata:\n",
      "        handler_name    : VideoHandler\n",
      "        vendor_id       : [0][0][0][0]\n",
      "        encoder         : Lavc60.38.100 png\n",
      "frame=   26 fps=0.0 q=-0.0 size=N/A time=00:00:01.08 bitrate=N/A speed=2.02x    \n",
      "[out#0/image2 @ 000002787992f940] video:36691kB audio:0kB subtitle:0kB other streams:0kB global headers:0kB muxing overhead: unknown\n",
      "frame=   80 fps=0.0 q=-0.0 Lsize=N/A time=00:00:03.33 bitrate=N/A speed=3.51x    \n"
     ]
    }
   ],
   "source": [
    "# Create directory if non-existent\n",
    "output_frames_path = dataset_directory + 'rgbd_in/frame%d.jpg'\n",
    "output_dir = os.path.dirname(output_frames_path)\n",
    "os.makedirs(output_dir, exist_ok=True)\n",
    "print(f\"output_frames_path: {output_frames_path}, output_dir: {output_dir}\")\n",
    "print(f\"video {input_video_path}\")\n",
    "# execute ffmpeg command for color\n",
    "!ffmpeg -i {input_video_path} -q:v 2 {output_frames_path} \n",
    "output_frames_path = dataset_directory + 'rgbd_in/frame%d.png' # for depth\n",
    "!ffmpeg -i {output_depth_video} -q:v 2 {output_frames_path}\n"
   ]
  },
  {
   "cell_type": "markdown",
   "id": "edb9eaab",
   "metadata": {},
   "source": [
    "\n",
    "## Image Preprocessing\n",
    "\n",
    "Rename and pair color and depth images as needed. Run the script or run the function inside notebook.\n"
   ]
  },
  {
   "cell_type": "code",
   "execution_count": null,
   "id": "d702eabd",
   "metadata": {},
   "outputs": [],
   "source": [
    "rgbd_frames = dataset_directory + 'rgbd_in/'\n",
    "# Example for renaming images (adjust according to your script)\n",
    "!python sbs_rename_directory.py {rgbd_frames}"
   ]
  },
  {
   "cell_type": "code",
   "execution_count": 20,
   "id": "0c5f706d",
   "metadata": {
    "scrolled": true
   },
   "outputs": [
    {
     "name": "stdout",
     "output_type": "stream",
     "text": [
      "Renamed 1 color files in datasets/d0/rgbd_in/.\n",
      "Renamed 81 depth files in datasets/d0/rgbd_in/.\n"
     ]
    }
   ],
   "source": [
    "import os\n",
    "import re\n",
    "\n",
    "def get_frame_number(filename):\n",
    "    match = re.search(r\"frame(\\d+)_\", filename)\n",
    "    if match:\n",
    "        return int(match.group(1))\n",
    "    else:\n",
    "        raise ValueError(f\"Invalid filename format: {filename}\")\n",
    "        \n",
    "def rename_files(source_dir):\n",
    "    os.makedirs(source_dir, exist_ok=True)\n",
    "\n",
    "    # Process color images\n",
    "    color_files = sorted([f for f in os.listdir(source_dir) if f.startswith(\"frame\") and f.endswith(\".jpg\")], \n",
    "                         key=lambda x: int(x.split(\"frame\")[1].split(\".\")[0]))\n",
    "    counter = 1\n",
    "    for filename in color_files:\n",
    "        new_name = f\"color{counter}.jpg\"\n",
    "        os.rename(os.path.join(source_dir, filename), os.path.join(source_dir, new_name))\n",
    "        counter += 1\n",
    "    print(f\"Renamed {counter} color files in {source_dir}.\")\n",
    "\n",
    "    # Process depth images\n",
    "    depth_files = sorted([f for f in os.listdir(source_dir) if f.startswith(\"frame\") and f.endswith(\".png\")], \n",
    "                         key=lambda x: int(x.split(\"frame\")[1].split(\".\")[0]))\n",
    "    counter = 1\n",
    "    for filename in depth_files:\n",
    "        new_name = f\"depth{counter}.png\"\n",
    "        os.rename(os.path.join(source_dir, filename), os.path.join(source_dir, new_name))\n",
    "        counter += 1\n",
    "    print(f\"Renamed {counter} depth files in {source_dir}.\")\n",
    "    \n",
    "source_dir = dataset_directory + \"rgbd_in/\"\n",
    "rename_files(source_dir)"
   ]
  },
  {
   "cell_type": "markdown",
   "id": "ca376732",
   "metadata": {},
   "source": [
    "\n",
    "## Generate Stereo Views\n",
    "\n",
    "Run the script to generate left and right eye views or run the function inside notebook.\n"
   ]
  },
  {
   "cell_type": "code",
   "execution_count": null,
   "id": "e3d21ca9",
   "metadata": {},
   "outputs": [],
   "source": [
    "stereo_input_dir =  dataset_directory + \"rgbd_in/\"\n",
    "stereo_output_dir = dataset_directory + \"stereo_out_frames/\"\n",
    "os.makedirs(stereo_input_dir, exist_ok=True)\n",
    "os.makedirs(stereo_output_dir, exist_ok=True)\n",
    "\n",
    "!python sbs_generate_stereoviews.py {stereo_input_dir} {stereo_output_dir}"
   ]
  },
  {
   "cell_type": "code",
   "execution_count": null,
   "id": "fd0e0726",
   "metadata": {
    "scrolled": true
   },
   "outputs": [
    {
     "name": "stdout",
     "output_type": "stream",
     "text": [
      "CPU times: total: 0 ns\n",
      "Wall time: 0 ns\n",
      "Processed frame 1.\n",
      "Processed frame 10.\n",
      "Processed frame 11.\n",
      "Processed frame 12.\n",
      "Processed frame 13.\n",
      "Processed frame 14.\n",
      "Processed frame 15.\n",
      "Processed frame 16.\n",
      "Processed frame 17.\n",
      "Processed frame 18.\n",
      "Processed frame 19.\n",
      "Processed frame 2.\n",
      "Processed frame 20.\n",
      "Processed frame 21.\n",
      "Processed frame 22.\n",
      "Processed frame 23.\n",
      "Processed frame 24.\n",
      "Processed frame 25.\n",
      "Processed frame 26.\n",
      "Processed frame 27.\n",
      "Processed frame 28.\n",
      "Processed frame 29.\n",
      "Processed frame 3.\n",
      "Processed frame 30.\n",
      "Processed frame 31.\n",
      "Processed frame 32.\n",
      "Processed frame 33.\n",
      "Processed frame 34.\n",
      "Processed frame 35.\n",
      "Processed frame 36.\n",
      "Processed frame 37.\n",
      "Processed frame 38.\n",
      "Processed frame 39.\n",
      "Processed frame 4.\n",
      "Processed frame 40.\n",
      "Processed frame 41.\n",
      "Processed frame 42.\n",
      "Processed frame 43.\n",
      "Processed frame 44.\n",
      "Processed frame 45.\n",
      "Processed frame 46.\n",
      "Processed frame 47.\n",
      "Processed frame 48.\n",
      "Processed frame 49.\n",
      "Processed frame 5.\n",
      "Processed frame 50.\n",
      "Processed frame 51.\n",
      "Processed frame 52.\n",
      "Processed frame 53.\n"
     ]
    }
   ],
   "source": [
    "%time\n",
    "\n",
    "import cv2\n",
    "import numpy as np\n",
    "import os\n",
    "\n",
    "def process_images(input_dir, output_dir, scale_factor):\n",
    "    if not os.path.exists(output_dir):\n",
    "        os.makedirs(output_dir)\n",
    "\n",
    "    color_images = sorted([f for f in os.listdir(input_dir) if f.startswith('color')])\n",
    "    depth_images = sorted([f for f in os.listdir(input_dir) if f.startswith('depth')])\n",
    "\n",
    "    for color_image_path, depth_image_path in zip(color_images, depth_images):\n",
    "        color_image = cv2.imread(os.path.join(input_dir, color_image_path))\n",
    "        depth_map = cv2.imread(os.path.join(input_dir, depth_image_path), cv2.IMREAD_GRAYSCALE)\n",
    "\n",
    "        if color_image is None:\n",
    "            print(f\"Error: Color image not found at {os.path.join(input_dir, color_image_path)}\")\n",
    "            continue\n",
    "\n",
    "        if depth_map is None:\n",
    "            print(f\"Error: Depth map not found at {os.path.join(input_dir, depth_image_path)}\")\n",
    "            continue\n",
    "\n",
    "        # Function to shift pixels based on depth map\n",
    "        def shift_pixels(image, depth_map, direction):\n",
    "            shifted_image = np.zeros_like(image)\n",
    "            for y in range(image.shape[0]):\n",
    "                for x in range(image.shape[1]):\n",
    "                    disparity = calculate_disparity(depth_map[y, x])\n",
    "                    new_x = x + disparity * direction\n",
    "                    if 0 <= new_x < image.shape[1]:\n",
    "                        shifted_image[y, new_x] = image[y, x]\n",
    "            return shifted_image\n",
    "\n",
    "        # Calculate disparity (example function, adjust as needed)\n",
    "        def calculate_disparity(depth_value):\n",
    "            # Simple linear mapping, adjust the scale factor as needed\n",
    "            return int(depth_value * scale_factor)\n",
    "\n",
    "        # Create left and right eye images\n",
    "        left_eye_image = shift_pixels(color_image, depth_map, 1)\n",
    "        right_eye_image = shift_pixels(color_image, depth_map, -1)\n",
    "\n",
    "        frame_number = color_image_path.split('color')[1].split('.')[0]\n",
    "        \n",
    "        if not os.path.exists(os.path.join(output_dir,'leftEye')):\n",
    "            os.makedirs(os.path.join(output_dir,'leftEye'))\n",
    "        if not os.path.exists(os.path.join(output_dir,'rightEye')):\n",
    "            os.makedirs(os.path.join(output_dir,'rightEye'))\n",
    "        \n",
    "        left_eye_output_path = os.path.join(output_dir, f'leftEye/leftEye{frame_number}.jpg')\n",
    "        right_eye_output_path = os.path.join(output_dir, f'rightEye/rightEye{frame_number}.jpg')\n",
    "\n",
    "        # Save the left and right eye images\n",
    "        cv2.imwrite(left_eye_output_path, left_eye_image)\n",
    "        cv2.imwrite(right_eye_output_path, right_eye_image)\n",
    "\n",
    "        print(f\"Processed frame {frame_number}.\")\n",
    "\n",
    "# Example usage\n",
    "stereo_input_dir =  dataset_directory + \"rgbd_in/\"\n",
    "stereo_output_dir = dataset_directory + \"stereo_out_frames/\"\n",
    "os.makedirs(stereo_input_dir, exist_ok=True)\n",
    "os.makedirs(stereo_output_dir, exist_ok=True)\n",
    "process_images(stereo_input_dir, stereo_output_dir, 0.05)"
   ]
  },
  {
   "cell_type": "markdown",
   "id": "35adf01f",
   "metadata": {},
   "source": [
    "\n",
    "## Inpainting Process\n",
    "\n",
    "Run the script for inpainting left and right eye images or run the function inside notebook.\n"
   ]
  },
  {
   "cell_type": "code",
   "execution_count": null,
   "id": "bd8cb281",
   "metadata": {},
   "outputs": [],
   "source": [
    "stereo_output_dir = dataset_directory + \"stereo_out_frames/\"\n",
    "stereo_postprocess_dir = dataset_directory + \"stereo_postprocess_frames/\"\n",
    "os.makedirs(stereo_output_dir, exist_ok=True)\n",
    "os.makedirs(stereo_postprocess_dir, exist_ok=True)\n",
    "\n",
    "!python sbs_inpaint_stereoviews.py {stereo_output_dir} {stereo_postprocess_dir}"
   ]
  },
  {
   "cell_type": "code",
   "execution_count": null,
   "id": "56acc662",
   "metadata": {
    "scrolled": true
   },
   "outputs": [],
   "source": [
    "import cv2\n",
    "import numpy as np\n",
    "import os\n",
    "\n",
    "def create_mask_for_black_streaks(image):\n",
    "    # Convert the image to grayscale\n",
    "    gray = cv2.cvtColor(image, cv2.COLOR_BGR2GRAY)\n",
    "    \n",
    "    # Use adaptive thresholding to better capture the black streaks\n",
    "    mask = cv2.adaptiveThreshold(gray, 255, cv2.ADAPTIVE_THRESH_GAUSSIAN_C, cv2.THRESH_BINARY_INV, 3, 8)\n",
    "    \n",
    "    # Dilate the mask to include the edges of the black streaks\n",
    "    kernel = np.ones((5,5), np.uint8)\n",
    "    mask = cv2.dilate(mask, kernel, iterations=1)\n",
    "    \n",
    "    return mask\n",
    "\n",
    "def inpaint_black_streaks(image, mask):\n",
    "    # Inpaint the black streaks in the image\n",
    "    inpainted_image = cv2.inpaint(image, mask, 5, cv2.INPAINT_TELEA)\n",
    "    \n",
    "    return inpainted_image\n",
    "\n",
    "def process_images(input_dir, output_dir, save_masks=False):\n",
    "    if not os.path.exists(output_dir):\n",
    "        os.makedirs(output_dir)\n",
    "    if not os.path.exists(os.path.join(output_dir,'leftEye')):\n",
    "        os.makedirs(os.path.join(output_dir,'leftEye'))\n",
    "    if not os.path.exists(os.path.join(output_dir,'rightEye')):\n",
    "        os.makedirs(os.path.join(output_dir,'rightEye'))\n",
    "    \n",
    "    if save_masks:\n",
    "        if not os.path.exists(os.path.join(output_dir,'leftEyeMask')):\n",
    "            os.makedirs(os.path.join(output_dir,'leftEyeMask'))\n",
    "        if not os.path.exists(os.path.join(output_dir,'rightEyeMask')):\n",
    "            os.makedirs(os.path.join(output_dir,'rightEyeMask'))\n",
    "\n",
    "    left_path = input_dir + \"leftEye/\"\n",
    "    right_path = input_dir + \"rightEye/\"\n",
    "    left_eye_images = sorted([f for f in os.listdir(left_path) if f.startswith('leftEye')])\n",
    "    right_eye_images = sorted([f for f in os.listdir(right_path) if f.startswith('rightEye')])\n",
    "\n",
    "    for left_eye_image_path, right_eye_image_path in zip(left_eye_images, right_eye_images):\n",
    "        left_eye_image = cv2.imread(os.path.join(left_path, left_eye_image_path))\n",
    "        right_eye_image = cv2.imread(os.path.join(right_path, right_eye_image_path))\n",
    "\n",
    "        if left_eye_image is None or right_eye_image is None:\n",
    "            print(f\"Error: Image not found at {os.path.join(input_dir, left_eye_image_path)} or {os.path.join(input_dir, right_eye_image_path)}\")\n",
    "            continue\n",
    "\n",
    "        # Create masks for the black streaks in both left and right eye images\n",
    "        left_eye_mask = create_mask_for_black_streaks(left_eye_image)\n",
    "        right_eye_mask = create_mask_for_black_streaks(right_eye_image)\n",
    "\n",
    "        # Inpaint the black streaks in both left and right eye images\n",
    "        left_eye_post = inpaint_black_streaks(left_eye_image, left_eye_mask)\n",
    "        right_eye_post = inpaint_black_streaks(right_eye_image, right_eye_mask)\n",
    "\n",
    "        frame_number = left_eye_image_path.split('leftEye')[1].split('.')[0]\n",
    "        left_eye_post_output_path = os.path.join(output_dir + \"leftEye/\", f'leftEyePost{frame_number}.jpg')\n",
    "        right_eye_post_output_path = os.path.join(output_dir + \"rightEye/\", f'rightEyePost{frame_number}.jpg')\n",
    "        # Save the processed images and masks\n",
    "        cv2.imwrite(left_eye_post_output_path, left_eye_post)\n",
    "        cv2.imwrite(right_eye_post_output_path, right_eye_post)\n",
    "        \n",
    "        if (save_masks):\n",
    "            left_eye_mask_output_path = os.path.join(output_dir + \"leftEyeMask/\", f'leftEyeMask{frame_number}.jpg')\n",
    "            right_eye_mask_output_path = os.path.join(output_dir + \"rightEyeMask/\", f'rightEyeMask{frame_number}.jpg')\n",
    "            cv2.imwrite(left_eye_mask_output_path, left_eye_mask)\n",
    "            cv2.imwrite(right_eye_mask_output_path, right_eye_mask)\n",
    "\n",
    "        print(f\"Processed frame {frame_number}.\")\n",
    "\n",
    "                          \n",
    "stereo_output_dir = dataset_directory + \"stereo_out_frames/\"\n",
    "stereo_postprocess_dir = dataset_directory + \"stereo_postprocess_frames/\"\n",
    "os.makedirs(stereo_output_dir, exist_ok=True)\n",
    "os.makedirs(stereo_postprocess_dir, exist_ok=True)                          \n",
    "# Example usage\n",
    "process_images(stereo_output_dir, stereo_postprocess_dir)\n"
   ]
  },
  {
   "cell_type": "markdown",
   "id": "8adc9976",
   "metadata": {},
   "source": [
    "\n",
    "## Create Videos from Images\n",
    "\n",
    "Use ffmpeg to create left and right eye videos. \n",
    "\n",
    "**Note** what the appropriate frame rate should be based on your input video.\n"
   ]
  },
  {
   "cell_type": "code",
   "execution_count": null,
   "id": "83851e8c",
   "metadata": {},
   "outputs": [],
   "source": [
    "left_eye_dir = dataset_directory + \"stereo_postprocess_frames/\" + \"leftEye/\"\n",
    "right_eye_dir = dataset_directory + \"stereo_postprocess_frames/\" + \"rightEye/\"\n",
    "os.makedirs(left_eye_dir, exist_ok=True)\n",
    "os.makedirs(right_eye_dir, exist_ok=True)\n",
    "left_eye_dir += \"leftEyePost%d.jpg\"\n",
    "right_eye_dir += \"rightEyePost%d.jpg\"\n",
    "\n",
    "left_eye_vid = dataset_directory + \"left_eye.mp4\"\n",
    "right_eye_vid = dataset_directory + \"right_eye.mp4\"\n",
    "\n",
    "\n",
    "!ffmpeg -framerate 24 -i {left_eye_dir} -c:v libx264 -pix_fmt yuv420p -vf \"fps=24\" {left_eye_vid}\n",
    "!ffmpeg -framerate 24 -i {right_eye_dir} -c:v libx264 -pix_fmt yuv420p -vf \"fps=24\" {right_eye_vid}\n"
   ]
  },
  {
   "cell_type": "markdown",
   "id": "cb1971f9",
   "metadata": {},
   "source": [
    "\n",
    "## Merge Videos and Inject Metadata\n",
    "\n",
    "Combine the left and right eye videos into an SBS video and inject 3D metadata.\n"
   ]
  },
  {
   "cell_type": "code",
   "execution_count": null,
   "id": "d2b2c7ff",
   "metadata": {},
   "outputs": [],
   "source": [
    "left_eye_vid = dataset_directory + \"left_eye.mp4\"\n",
    "right_eye_vid = dataset_directory + \"right_eye.mp4\"\n",
    "output_vid = dataset_directory + \"output.SBS.mp4\"\n",
    "\n",
    "!ffmpeg -i {left_eye_vid} -i {right_eye_vid} -filter_complex \"[0:v][1:v]hstack=inputs=2[v]\" -map \"[v]\" {output_vid}\n",
    "!ffmpeg -i {output_vid} -vf \"scale=2*iw:ih\" -c:v libx264 -x264opts \"frame-packing=3\" -aspect 2:1 {final_video_filename}\n"
   ]
  },
  {
   "cell_type": "markdown",
   "id": "3a4943eb",
   "metadata": {},
   "source": [
    "## Upload SBS video to Quest headset\n",
    "\n",
    "First register device connection, then push file, and lastly force the file system to update without restarting the device.\n"
   ]
  },
  {
   "cell_type": "code",
   "execution_count": null,
   "id": "3155fb3b",
   "metadata": {},
   "outputs": [],
   "source": [
    "!adb devices\n",
    "!adb push {final_video_filename} /sdcard/Movies/\n",
    "!adb shell am force-stop com.android.providers.media.module"
   ]
  },
  {
   "cell_type": "markdown",
   "id": "72f75dc8",
   "metadata": {},
   "source": [
    "\n",
    "## Cleanup and Finalization\n",
    "\n",
    "(Optional) Cleanup temporary files and display/export the final video path.\n"
   ]
  },
  {
   "cell_type": "code",
   "execution_count": null,
   "id": "38160454",
   "metadata": {},
   "outputs": [],
   "source": [
    "# Example cleanup (adjust as needed)\n",
    "\n",
    "#rgbd frame directories\n",
    "rgbd_frames = dataset_directory + 'rgbd_in/'\n",
    "#stereo directories\n",
    "stereo_input_dir =  dataset_directory + \"input_frames/\"\n",
    "stereo_output_dir = dataset_directory + \"stereo_out_frames/\"\n",
    "#inpainting directories\n",
    "stereo_postprocess_dir = dataset_directory + \"stereo_postprocess_frames/\"\n",
    "\n",
    "#video directories\n",
    "left_eye_vid = dataset_directory + \"left_eye.mp4\"\n",
    "right_eye_vid = dataset_directory + \"right_eye.mp4\"\n",
    "output_vid = dataset_directory + \"output.SBS.mp4\"\n",
    "\n",
    "# delete all directories and videos\n",
    "!rm -rf {rgbd_frames}\n",
    "!rm -rf {stereo_input_dir}\n",
    "!rm -rf {stereo_output_dir}\n",
    "!rm -rf {stereo_postprocess_dir}\n",
    "!rm {left_eye_vid} {right_eye_vid} {output_vid}"
   ]
  }
 ],
 "metadata": {
  "kernelspec": {
   "display_name": "Depth-Anything",
   "language": "python",
   "name": "depth-anything"
  },
  "language_info": {
   "codemirror_mode": {
    "name": "ipython",
    "version": 3
   },
   "file_extension": ".py",
   "mimetype": "text/x-python",
   "name": "python",
   "nbconvert_exporter": "python",
   "pygments_lexer": "ipython3",
   "version": "3.11.7"
  }
 },
 "nbformat": 4,
 "nbformat_minor": 5
}
